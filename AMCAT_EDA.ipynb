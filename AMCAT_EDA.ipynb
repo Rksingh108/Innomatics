{
 "cells": [
  {
   "cell_type": "code",
   "execution_count": 29,
   "metadata": {},
   "outputs": [],
   "source": [
    "import pandas as pd\n",
    "import matplotlib.pyplot as plt\n",
    "import seaborn as sns"
   ]
  },
  {
   "cell_type": "code",
   "execution_count": null,
   "metadata": {},
   "outputs": [],
   "source": [
    "data = pd.read_csv('amcat.csv')\n",
    "data.head()"
   ]
  },
  {
   "cell_type": "code",
   "execution_count": null,
   "metadata": {},
   "outputs": [],
   "source": [
    "data.describe()"
   ]
  },
  {
   "cell_type": "markdown",
   "metadata": {},
   "source": [
    "Univariate Analysis\n",
    "\n",
    "1 Histogram"
   ]
  },
  {
   "cell_type": "code",
   "execution_count": null,
   "metadata": {},
   "outputs": [],
   "source": [
    "cols = data.select_dtypes('float64','int64').columns\n",
    "cols"
   ]
  },
  {
   "cell_type": "code",
   "execution_count": null,
   "metadata": {},
   "outputs": [],
   "source": [
    "for col in cols:\n",
    "    plt.figure(figsize=(10, 4))\n",
    "    sns.histplot(data[col], kde=True)\n",
    "    plt.title(f'Histogram of {col}')\n",
    "    plt.xlabel(col)\n",
    "    plt.ylabel('Frequency')\n",
    "    plt.show()\n",
    "    # Observations\n",
    "    print(f\"Observations for {col}:\")\n",
    "    print(f\"Mean: {data[col].mean()}, Median: {data[col].median()}, Std: {data[col].std()}\")\n",
    "    print(\"Skewness:\", data[col].skew())\n",
    "    print(\"Kurtosis:\", data[col].kurtosis())\n",
    "    print(\"\\n\")"
   ]
  },
  {
   "cell_type": "markdown",
   "metadata": {},
   "source": [
    "2 Boxplots"
   ]
  },
  {
   "cell_type": "code",
   "execution_count": null,
   "metadata": {},
   "outputs": [],
   "source": [
    "for col in cols:\n",
    "    plt.figure(figsize=(10, 4))\n",
    "    sns.boxplot(x=data[col])\n",
    "    plt.title(f'Boxplot of {col}')\n",
    "    plt.xlabel(col)\n",
    "    plt.show()\n",
    "\n",
    "    # Identify Outliers\n",
    "    q1 = data[col].quantile(0.25)\n",
    "    q3 = data[col].quantile(0.75)\n",
    "    iqr = q3 - q1\n",
    "    lower_bound = q1 - 1.5 * iqr\n",
    "    upper_bound = q3 + 1.5 * iqr\n",
    "    outliers = data[(data[col] < lower_bound) | (data[col] > upper_bound)]\n",
    "    print(f\"Outliers in {col}:\")\n",
    "    print(outliers)\n",
    "    print(\"\\n\")"
   ]
  },
  {
   "cell_type": "markdown",
   "metadata": {},
   "source": [
    "3. Categorical Columns Analysis"
   ]
  },
  {
   "cell_type": "code",
   "execution_count": null,
   "metadata": {},
   "outputs": [],
   "source": [
    "\n",
    "categorical_cols = data.select_dtypes(include=['object']).columns\n",
    "print(categorical_cols)\n",
    "\n",
    "# Countplots\n",
    "for col in categorical_cols:\n",
    "    plt.figure(figsize=(10, 4))\n",
    "    sns.countplot(data=data, x=col)\n",
    "    plt.title(f'Countplot of {col}')\n",
    "    plt.xlabel(col)\n",
    "    plt.ylabel('Count')\n",
    "    plt.xticks(rotation=45)\n",
    "    plt.show()\n",
    "\n",
    "    # Frequency Distribution\n",
    "    frequency = data[col].value_counts()\n",
    "    print(f\"Frequency distribution for {col}:\")\n",
    "    print(frequency)\n",
    "    print(\"\\n\")"
   ]
  },
  {
   "cell_type": "markdown",
   "metadata": {},
   "source": [
    "Bivariate Analysis\n",
    "\n",
    "1 Scatter Plots"
   ]
  },
  {
   "cell_type": "code",
   "execution_count": null,
   "metadata": {},
   "outputs": [],
   "source": [
    "\n",
    "for i in range(len(cols)):\n",
    "    for j in range(i + 1, len(cols)):\n",
    "        plt.figure(figsize=(10, 6))\n",
    "        sns.scatterplot(data=data, x=cols[i], y=cols[j])\n",
    "        plt.title(f'Scatter Plot: {cols[i]} vs {cols[j]}')\n",
    "        plt.xlabel(cols[i])\n",
    "        plt.ylabel(cols[j])\n",
    "        plt.show()\n",
    "\n",
    "        # Observations\n",
    "        correlation = data[cols[i]].corr(data[cols[j]])\n",
    "        print(f\"Correlation between {cols[i]} and {cols[j]}: {correlation}\\n\")\n"
   ]
  },
  {
   "cell_type": "code",
   "execution_count": null,
   "metadata": {},
   "outputs": [],
   "source": [
    "for i in range(len(cols)):\n",
    "    for j in range(i + 1, len(cols)):\n",
    "        plt.figure(figsize=(10, 6))\n",
    "        plt.hexbin(data[cols[i]], data[cols[j]], gridsize=30, cmap='Blues')\n",
    "        plt.title(f'Hexbin Plot: {cols[i]} vs {cols[j]}')\n",
    "        plt.xlabel(cols[i])\n",
    "        plt.ylabel(cols[j])\n",
    "        plt.colorbar(label='Counts')\n",
    "        plt.show()"
   ]
  },
  {
   "cell_type": "code",
   "execution_count": null,
   "metadata": {},
   "outputs": [],
   "source": [
    "# c. Pair Plots\n",
    "sns.pairplot(data[cols])\n",
    "plt.title('Pair Plot of Numerical Columns')\n",
    "plt.show()"
   ]
  },
  {
   "cell_type": "code",
   "execution_count": null,
   "metadata": {},
   "outputs": [],
   "source": [
    "# 2. Patterns Between Categorical and Numerical Columns\n",
    "categorical_cols = data.select_dtypes(include=['object']).columns\n",
    "\n",
    "# a. Swarmplots\n",
    "for cat in categorical_cols:\n",
    "    for num in cols:\n",
    "        plt.figure(figsize=(10, 6))\n",
    "        sns.swarmplot(x=data[cat], y=data[num])\n",
    "        plt.title(f'Swarm Plot: {cat} vs {num}')\n",
    "        plt.xlabel(cat)\n",
    "        plt.ylabel(num)\n",
    "        plt.xticks(rotation=45)\n",
    "        plt.show()"
   ]
  },
  {
   "cell_type": "code",
   "execution_count": null,
   "metadata": {},
   "outputs": [],
   "source": [
    "# b. Boxplots\n",
    "for cat in categorical_cols:\n",
    "    for num in cols:\n",
    "        plt.figure(figsize=(10, 6))\n",
    "        sns.boxplot(x=data[cat], y=data[num])\n",
    "        plt.title(f'Boxplot: {cat} vs {num}')\n",
    "        plt.xlabel(cat)\n",
    "        plt.ylabel(num)\n",
    "        plt.xticks(rotation=45)\n",
    "        plt.show()"
   ]
  },
  {
   "cell_type": "code",
   "execution_count": null,
   "metadata": {},
   "outputs": [],
   "source": [
    "# c. Barplots\n",
    "for cat in categorical_cols:\n",
    "    for num in cols:\n",
    "        plt.figure(figsize=(10, 6))\n",
    "        sns.barplot(x=data[cat], y=data[num], estimator='mean')\n",
    "        plt.title(f'Bar Plot: {cat} vs {num}')\n",
    "        plt.xlabel(cat)\n",
    "        plt.ylabel(num)\n",
    "        plt.xticks(rotation=45)\n",
    "        plt.show()"
   ]
  },
  {
   "cell_type": "code",
   "execution_count": null,
   "metadata": {},
   "outputs": [],
   "source": [
    "# 3. Relationships Between Categorical Columns\n",
    "for i in range(len(categorical_cols)):\n",
    "    for j in range(i + 1, len(categorical_cols)):\n",
    "        cross_tab = pd.crosstab(data[categorical_cols[i]], data[categorical_cols[j]])\n",
    "        cross_tab.plot(kind='bar', stacked=True, figsize=(10, 6))\n",
    "        plt.title(f'Stacked Bar Plot: {categorical_cols[i]} vs {categorical_cols[j]}')\n",
    "        plt.xlabel(categorical_cols[i])\n",
    "        plt.ylabel('Count')\n",
    "        plt.xticks(rotation=45)\n",
    "        plt.legend(title=categorical_cols[j])\n",
    "        plt.show()\n",
    "\n",
    "        # Observations\n",
    "        print(f\"Relationship between {categorical_cols[i]} and {categorical_cols[j]}:\\n{cross_tab}\\n\")F"
   ]
  },
  {
   "cell_type": "code",
   "execution_count": null,
   "metadata": {},
   "outputs": [],
   "source": []
  }
 ],
 "metadata": {
  "kernelspec": {
   "display_name": "Python 3",
   "language": "python",
   "name": "python3"
  },
  "language_info": {
   "codemirror_mode": {
    "name": "ipython",
    "version": 3
   },
   "file_extension": ".py",
   "mimetype": "text/x-python",
   "name": "python",
   "nbconvert_exporter": "python",
   "pygments_lexer": "ipython3",
   "version": "3.12.7"
  }
 },
 "nbformat": 4,
 "nbformat_minor": 2
}
